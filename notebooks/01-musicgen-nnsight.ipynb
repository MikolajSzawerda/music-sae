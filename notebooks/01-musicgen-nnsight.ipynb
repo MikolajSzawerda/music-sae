{
 "cells": [
  {
   "cell_type": "code",
   "metadata": {
    "ExecuteTime": {
     "end_time": "2025-03-28T23:46:46.088514Z",
     "start_time": "2025-03-28T23:46:44.048491Z"
    }
   },
   "source": [
    "from transformers import AutoProcessor, MusicgenForConditionalGeneration, AutoConfig\n",
    "import torch\n",
    "import torchaudio\n",
    "from nnsight import LanguageModel\n",
    "import nnsight\n",
    "from IPython.display import clear_output"
   ],
   "outputs": [],
   "execution_count": 1
  },
  {
   "cell_type": "code",
   "metadata": {
    "ExecuteTime": {
     "end_time": "2025-03-28T23:46:49.099292Z",
     "start_time": "2025-03-28T23:46:47.494254Z"
    }
   },
   "source": [
    "processor = AutoProcessor.from_pretrained(\"facebook/musicgen-small\")\n",
    "# model = MusicgenForConditionalGeneration.from_pretrained(\"facebook/musicgen-small\").to('cuda')\n",
    "cfg = AutoConfig.from_pretrained(\"facebook/musicgen-small\")"
   ],
   "outputs": [],
   "execution_count": 2
  },
  {
   "metadata": {},
   "cell_type": "code",
   "source": [
    "class MusicGenLanguageModel(LanguageModel):\n",
    "    def _load_meta(\n",
    "        self,\n",
    "        repo_id: str,\n",
    "        tokenizer_kwargs = {},\n",
    "        **kwargs,\n",
    "    ):\n",
    "        self.repo_id = repo_id\n",
    "\n",
    "        self._load_config(repo_id, **kwargs)\n",
    "\n",
    "        self._load_tokenizer(repo_id, **tokenizer_kwargs)\n",
    "        return MusicgenForConditionalGeneration.from_pretrained(repo_id)\n",
    "    def _load(\n",
    "        self,\n",
    "        repo_id: str,\n",
    "        tokenizer_kwargs = {},\n",
    "        **kwargs,\n",
    "    ):\n",
    "        self.repo_id = repo_id\n",
    "\n",
    "        self._load_config(repo_id, **kwargs)\n",
    "\n",
    "        self._load_tokenizer(repo_id, **tokenizer_kwargs)\n",
    "        return MusicgenForConditionalGeneration.from_pretrained(repo_id).to(kwargs['device_map'])\n",
    "nn_model = MusicGenLanguageModel(\"facebook/musicgen-small\", config=cfg, tokenizer=processor.tokenizer, device_map='cuda')\n",
    "with nn_model.generate(\"Hello world!\", max_new_tokens=10):\n",
    "    ...\n",
    "\n",
    "clear_output()"
   ],
   "execution_count": 3,
   "outputs": []
  },
  {
   "metadata": {
    "ExecuteTime": {
     "end_time": "2025-03-28T23:48:02.923521Z",
     "start_time": "2025-03-28T23:47:57.919669Z"
    }
   },
   "cell_type": "code",
   "source": [
    "tokens = 255\n",
    "prompt = \"Recreate the essence of a classic video game theme with chiptune sounds and nostalgic melodies.\"\n",
    "for n in [2,8]:\n",
    "    ablate_layer = nn_model.decoder.model.decoder.layers[n]\n",
    "    with nn_model.generate([prompt]*3, max_new_tokens=tokens):\n",
    "        outputs = nnsight.list().save() # Initialize & .save() nnsight list\n",
    "        for _ in range(tokens):\n",
    "            ablate_layer.output[0][:] = ablate_layer.input[0][:]\n",
    "            outputs.append(nn_model.generator.output)\n",
    "            nn_model.next()\n",
    "    # torchaudio.save(\n",
    "    #     f\"out_{n}.wav\",\n",
    "    #     src=outputs[0][0].detach().cpu(),\n",
    "    #     sample_rate=nn_model.config.sampling_rate,\n",
    "    #     channels_first=True,\n",
    "    # )"
   ],
   "outputs": [],
   "execution_count": 7
  },
  {
   "metadata": {
    "ExecuteTime": {
     "end_time": "2025-03-28T23:48:09.358959Z",
     "start_time": "2025-03-28T23:48:09.351606Z"
    }
   },
   "cell_type": "code",
   "source": "outputs[0].shape",
   "outputs": [
    {
     "data": {
      "text/plain": [
       "torch.Size([3, 1, 161280])"
      ]
     },
     "execution_count": 9,
     "metadata": {},
     "output_type": "execute_result"
    }
   ],
   "execution_count": 9
  },
  {
   "metadata": {
    "ExecuteTime": {
     "end_time": "2025-03-28T22:03:03.547779Z",
     "start_time": "2025-03-28T22:03:03.540018Z"
    }
   },
   "cell_type": "code",
   "source": "nn_model.device",
   "outputs": [
    {
     "data": {
      "text/plain": [
       "device(type='cuda', index=0)"
      ]
     },
     "execution_count": 45,
     "metadata": {},
     "output_type": "execute_result"
    }
   ],
   "execution_count": 45
  }
 ],
 "metadata": {
  "kernelspec": {
   "display_name": "musicsae-j7RS21dY-py3.10",
   "language": "python",
   "name": "python3"
  },
  "language_info": {
   "codemirror_mode": {
    "name": "ipython",
    "version": 3
   },
   "file_extension": ".py",
   "mimetype": "text/x-python",
   "name": "python",
   "nbconvert_exporter": "python",
   "pygments_lexer": "ipython3",
   "version": "3.10.12"
  }
 },
 "nbformat": 4,
 "nbformat_minor": 2
}
