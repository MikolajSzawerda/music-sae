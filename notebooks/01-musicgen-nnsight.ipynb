{
 "cells": [
  {
   "cell_type": "code",
   "execution_count": 55,
   "metadata": {
    "ExecuteTime": {
     "end_time": "2025-04-02T19:48:05.143741Z",
     "start_time": "2025-04-02T19:48:05.137039Z"
    }
   },
   "outputs": [],
   "source": [
    "from transformers import AutoProcessor, MusicgenForConditionalGeneration, AutoConfig\n",
    "from nnsight import LanguageModel\n",
    "import nnsight\n",
    "from IPython.display import clear_output\n",
    "import torch"
   ]
  },
  {
   "cell_type": "code",
   "execution_count": 41,
   "metadata": {
    "ExecuteTime": {
     "end_time": "2025-04-02T19:32:02.123650Z",
     "start_time": "2025-04-02T19:32:00.336924Z"
    }
   },
   "outputs": [],
   "source": [
    "processor = AutoProcessor.from_pretrained(\"facebook/musicgen-small\")\n",
    "# model = MusicgenForConditionalGeneration.from_pretrained(\"facebook/musicgen-small\").to('cuda')\n",
    "cfg = AutoConfig.from_pretrained(\"facebook/musicgen-small\")"
   ]
  },
  {
   "cell_type": "code",
   "execution_count": 42,
   "metadata": {},
   "outputs": [],
   "source": [
    "class MusicGenLanguageModel(LanguageModel):\n",
    "    def _load_meta(\n",
    "        self,\n",
    "        repo_id: str,\n",
    "        tokenizer_kwargs={},\n",
    "        **kwargs,\n",
    "    ):\n",
    "        self.repo_id = repo_id\n",
    "\n",
    "        self._load_config(repo_id, **kwargs)\n",
    "\n",
    "        self._load_tokenizer(repo_id, **tokenizer_kwargs)\n",
    "        return MusicgenForConditionalGeneration.from_pretrained(repo_id)\n",
    "\n",
    "    def _load(\n",
    "        self,\n",
    "        repo_id: str,\n",
    "        tokenizer_kwargs={},\n",
    "        **kwargs,\n",
    "    ):\n",
    "        self.repo_id = repo_id\n",
    "\n",
    "        self._load_config(repo_id, **kwargs)\n",
    "\n",
    "        self._load_tokenizer(repo_id, **tokenizer_kwargs)\n",
    "        return MusicgenForConditionalGeneration.from_pretrained(repo_id).to(kwargs[\"device_map\"])\n",
    "\n",
    "\n",
    "nn_model = MusicGenLanguageModel(\n",
    "    \"facebook/musicgen-small\",\n",
    "    config=cfg,\n",
    "    tokenizer=processor.tokenizer,\n",
    "    device_map=\"cuda\",\n",
    ")\n",
    "with nn_model.generate(\"Hello world!\", max_new_tokens=10):\n",
    "    ...\n",
    "\n",
    "clear_output()"
   ]
  },
  {
   "cell_type": "code",
   "execution_count": 71,
   "metadata": {
    "ExecuteTime": {
     "end_time": "2025-04-02T19:55:01.358863Z",
     "start_time": "2025-04-02T19:55:01.304135Z"
    }
   },
   "outputs": [
    {
     "data": {
      "text/plain": [
       "torch.Size([508, 1024])"
      ]
     },
     "execution_count": 71,
     "metadata": {},
     "output_type": "execute_result"
    }
   ],
   "source": [
    "inputs = processor(\n",
    "    text=[\"80s pop track with bassy drums and synth\", \"90s rock song with loud guitars and heavy drums\"],\n",
    "    padding=True,\n",
    "    return_tensors=\"pt\",\n",
    ")\n",
    "\n",
    "pad_token_id = nn_model.generation_config.pad_token_id\n",
    "decoder_input_ids = (\n",
    "    torch.ones(\n",
    "        (inputs.input_ids.shape[0] * nn_model.decoder.num_codebooks, 254), dtype=torch.long, device=nn_model.device\n",
    "    )\n",
    "    * pad_token_id\n",
    ")\n",
    "\n",
    "layer = nn_model.decoder.model.decoder.layers[16]\n",
    "with nn_model.trace({k: v.to(nn_model.device) for k, v in inputs.items()}, decoder_input_ids=decoder_input_ids):\n",
    "    out = layer.output.save()\n",
    "    ...\n",
    "out[0].shape"
   ]
  },
  {
   "cell_type": "code",
   "execution_count": 7,
   "metadata": {
    "ExecuteTime": {
     "end_time": "2025-03-28T23:48:02.923521Z",
     "start_time": "2025-03-28T23:47:57.919669Z"
    }
   },
   "outputs": [],
   "source": [
    "tokens = 255\n",
    "prompt = \"Recreate the essence of a classic video game theme with chiptune sounds and nostalgic melodies.\"\n",
    "for n in [2, 8]:\n",
    "    ablate_layer = nn_model.decoder.model.decoder.layers[n]\n",
    "    with nn_model.generate([prompt] * 3, max_new_tokens=tokens):\n",
    "        outputs = nnsight.list().save()  # Initialize & .save() nnsight list\n",
    "        for _ in range(tokens):\n",
    "            ablate_layer.output[0][:] = ablate_layer.input[0][:]\n",
    "            outputs.append(nn_model.generator.output)\n",
    "            nn_model.next()\n",
    "    # torchaudio.save(\n",
    "    #     f\"out_{n}.wav\",\n",
    "    #     src=outputs[0][0].detach().cpu(),\n",
    "    #     sample_rate=nn_model.config.sampling_rate,\n",
    "    #     channels_first=True,\n",
    "    # )"
   ]
  },
  {
   "cell_type": "code",
   "execution_count": 9,
   "metadata": {
    "ExecuteTime": {
     "end_time": "2025-03-28T23:48:09.358959Z",
     "start_time": "2025-03-28T23:48:09.351606Z"
    }
   },
   "outputs": [
    {
     "data": {
      "text/plain": [
       "torch.Size([3, 1, 161280])"
      ]
     },
     "execution_count": 9,
     "metadata": {},
     "output_type": "execute_result"
    }
   ],
   "source": [
    "outputs[0].shape"
   ]
  },
  {
   "cell_type": "code",
   "execution_count": 45,
   "metadata": {
    "ExecuteTime": {
     "end_time": "2025-03-28T22:03:03.547779Z",
     "start_time": "2025-03-28T22:03:03.540018Z"
    }
   },
   "outputs": [
    {
     "data": {
      "text/plain": [
       "device(type='cuda', index=0)"
      ]
     },
     "execution_count": 45,
     "metadata": {},
     "output_type": "execute_result"
    }
   ],
   "source": [
    "nn_model.device"
   ]
  }
 ],
 "metadata": {
  "kernelspec": {
   "display_name": "musicsae-j7RS21dY-py3.10",
   "language": "python",
   "name": "python3"
  },
  "language_info": {
   "codemirror_mode": {
    "name": "ipython",
    "version": 3
   },
   "file_extension": ".py",
   "mimetype": "text/x-python",
   "name": "python",
   "nbconvert_exporter": "python",
   "pygments_lexer": "ipython3",
   "version": "3.10.12"
  }
 },
 "nbformat": 4,
 "nbformat_minor": 2
}
