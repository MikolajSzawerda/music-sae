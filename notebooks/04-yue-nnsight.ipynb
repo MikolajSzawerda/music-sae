{
 "cells": [
  {
   "cell_type": "code",
   "execution_count": null,
   "metadata": {},
   "outputs": [],
   "source": [
    "from transformers import AutoProcessor, AutoConfig, AutoModelForCausalLM\n",
    "import torch\n",
    "from nnsight import LanguageModel\n",
    "import nnsight"
   ]
  },
  {
   "cell_type": "code",
   "execution_count": null,
   "metadata": {},
   "outputs": [],
   "source": [
    "STAGE1_MODEL = \"m-a-p/YuE-s1-7B-anneal-en-cot\"\n",
    "\n",
    "\n",
    "processor = AutoProcessor.from_pretrained(STAGE1_MODEL)\n",
    "cfg = AutoConfig.from_pretrained(STAGE1_MODEL)"
   ]
  },
  {
   "cell_type": "code",
   "execution_count": null,
   "metadata": {},
   "outputs": [],
   "source": [
    "class YuE(LanguageModel):\n",
    "    def _load_meta(self, repo_id: str, tokenizer_kwargs={}, **kwargs):\n",
    "        self.repo_id = repo_id\n",
    "\n",
    "        self._load_config(repo_id, **kwargs)\n",
    "\n",
    "        self._load_tokenizer(repo_id, **tokenizer_kwargs)\n",
    "        return AutoModelForCausalLM.from_pretrained(\n",
    "            repo_id,\n",
    "            torch_dtype=torch.bfloat16,\n",
    "            # attn_implementation=\"flash_attention_2\",\n",
    "        )\n",
    "\n",
    "    def _load(\n",
    "        self,\n",
    "        repo_id: str,\n",
    "        tokenizer_kwargs={},\n",
    "        **kwargs,\n",
    "    ):\n",
    "        self.repo_id = repo_id\n",
    "\n",
    "        self._load_config(repo_id, **kwargs)\n",
    "\n",
    "        self._load_tokenizer(repo_id, **tokenizer_kwargs)\n",
    "        return AutoModelForCausalLM.from_pretrained(\n",
    "            repo_id,\n",
    "            torch_dtype=torch.bfloat16,\n",
    "            # attn_implementation=\"flash_attention_2\",\n",
    "        ).to(kwargs[\"device_map\"])"
   ]
  },
  {
   "cell_type": "code",
   "execution_count": null,
   "metadata": {},
   "outputs": [],
   "source": [
    "nn_model = YuE(\n",
    "    STAGE1_MODEL,\n",
    "    config=cfg,\n",
    "    # tokenizer=processor.tokenizer,\n",
    "    device_map=\"cuda\",\n",
    ")\n",
    "\n",
    "with nn_model.generate(\"Hello world\", max_new_tokens=10):\n",
    "    ..."
   ]
  },
  {
   "cell_type": "code",
   "execution_count": null,
   "metadata": {},
   "outputs": [],
   "source": [
    "nn_model"
   ]
  },
  {
   "cell_type": "code",
   "execution_count": null,
   "metadata": {},
   "outputs": [],
   "source": [
    "tokens = 20\n",
    "prompt = \"Recreate the essence of a classic video game theme with chiptune sounds and nostalgic melodies.\"\n",
    "\n",
    "for n in [2]:\n",
    "    ablate_layer = nn_model.model.layers[n]\n",
    "    with nn_model.generate([prompt] * 1, max_new_tokens=tokens):\n",
    "        outputs = nnsight.list().save()\n",
    "\n",
    "        for _ in range(tokens):\n",
    "            ablate_layer.output[0][:] = ablate_layer.input[:]\n",
    "            outputs.append(nn_model.generator.output)\n",
    "            nn_model.next()\n",
    "\n",
    "        print(\"Step\")"
   ]
  },
  {
   "cell_type": "code",
   "execution_count": null,
   "metadata": {},
   "outputs": [],
   "source": [
    "nn_model.device"
   ]
  },
  {
   "cell_type": "code",
   "execution_count": null,
   "metadata": {},
   "outputs": [],
   "source": [
    "nn_model.cpu()\n",
    "del nn_model\n",
    "torch.cuda.empty_cache()"
   ]
  }
 ],
 "metadata": {
  "kernelspec": {
   "display_name": "Python 3 (ipykernel)",
   "language": "python",
   "name": "python3"
  },
  "language_info": {
   "codemirror_mode": {
    "name": "ipython",
    "version": 3
   },
   "file_extension": ".py",
   "mimetype": "text/x-python",
   "name": "python",
   "nbconvert_exporter": "python",
   "pygments_lexer": "ipython3",
   "version": "3.12.3"
  }
 },
 "nbformat": 4,
 "nbformat_minor": 2
}
