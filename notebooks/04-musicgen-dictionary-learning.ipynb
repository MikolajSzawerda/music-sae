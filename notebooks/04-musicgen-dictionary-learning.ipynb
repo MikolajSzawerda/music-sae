{
 "cells": [
  {
   "cell_type": "code",
   "execution_count": 2,
   "metadata": {
    "ExecuteTime": {
     "end_time": "2025-04-01T23:32:33.264700Z",
     "start_time": "2025-04-01T23:32:19.427987Z"
    }
   },
   "outputs": [],
   "source": [
    "from dictionary_learning import ActivationBuffer\n",
    "from dictionary_learning.trainers.top_k import AutoEncoderTopK, TopKTrainer\n",
    "from dictionary_learning.training import trainSAE\n",
    "from musicsae.nnsight_model import MusicGenLanguageModel, AutoProcessor\n",
    "import torch as t\n",
    "import gc\n",
    "from utils import MODELS_DIR, OUTPUT_DATA_DIR\n",
    "import torchaudio\n",
    "import nnsight\n",
    "from datasets import load_dataset, Dataset\n",
    "from torch.utils.data import Dataset as TorchDataset"
   ]
  },
  {
   "cell_type": "code",
   "execution_count": 3,
   "metadata": {
    "ExecuteTime": {
     "end_time": "2025-04-01T23:32:42.847429Z",
     "start_time": "2025-04-01T23:32:38.380002Z"
    }
   },
   "outputs": [
    {
     "name": "stderr",
     "output_type": "stream",
     "text": [
      "Config of the text_encoder: <class 'transformers.models.t5.modeling_t5.T5EncoderModel'> is overwritten by shared text_encoder config: T5Config {\n",
      "  \"architectures\": [\n",
      "    \"T5ForConditionalGeneration\"\n",
      "  ],\n",
      "  \"classifier_dropout\": 0.0,\n",
      "  \"d_ff\": 3072,\n",
      "  \"d_kv\": 64,\n",
      "  \"d_model\": 768,\n",
      "  \"decoder_start_token_id\": 0,\n",
      "  \"dense_act_fn\": \"relu\",\n",
      "  \"dropout_rate\": 0.1,\n",
      "  \"eos_token_id\": 1,\n",
      "  \"feed_forward_proj\": \"relu\",\n",
      "  \"initializer_factor\": 1.0,\n",
      "  \"is_encoder_decoder\": true,\n",
      "  \"is_gated_act\": false,\n",
      "  \"layer_norm_epsilon\": 1e-06,\n",
      "  \"model_type\": \"t5\",\n",
      "  \"n_positions\": 512,\n",
      "  \"num_decoder_layers\": 12,\n",
      "  \"num_heads\": 12,\n",
      "  \"num_layers\": 12,\n",
      "  \"output_past\": true,\n",
      "  \"pad_token_id\": 0,\n",
      "  \"relative_attention_max_distance\": 128,\n",
      "  \"relative_attention_num_buckets\": 32,\n",
      "  \"task_specific_params\": {\n",
      "    \"summarization\": {\n",
      "      \"early_stopping\": true,\n",
      "      \"length_penalty\": 2.0,\n",
      "      \"max_length\": 200,\n",
      "      \"min_length\": 30,\n",
      "      \"no_repeat_ngram_size\": 3,\n",
      "      \"num_beams\": 4,\n",
      "      \"prefix\": \"summarize: \"\n",
      "    },\n",
      "    \"translation_en_to_de\": {\n",
      "      \"early_stopping\": true,\n",
      "      \"max_length\": 300,\n",
      "      \"num_beams\": 4,\n",
      "      \"prefix\": \"translate English to German: \"\n",
      "    },\n",
      "    \"translation_en_to_fr\": {\n",
      "      \"early_stopping\": true,\n",
      "      \"max_length\": 300,\n",
      "      \"num_beams\": 4,\n",
      "      \"prefix\": \"translate English to French: \"\n",
      "    },\n",
      "    \"translation_en_to_ro\": {\n",
      "      \"early_stopping\": true,\n",
      "      \"max_length\": 300,\n",
      "      \"num_beams\": 4,\n",
      "      \"prefix\": \"translate English to Romanian: \"\n",
      "    }\n",
      "  },\n",
      "  \"torch_dtype\": \"float32\",\n",
      "  \"transformers_version\": \"4.50.3\",\n",
      "  \"use_cache\": true,\n",
      "  \"vocab_size\": 32128\n",
      "}\n",
      "\n",
      "Config of the audio_encoder: <class 'transformers.models.encodec.modeling_encodec.EncodecModel'> is overwritten by shared audio_encoder config: EncodecConfig {\n",
      "  \"architectures\": [\n",
      "    \"EncodecModel\"\n",
      "  ],\n",
      "  \"audio_channels\": 1,\n",
      "  \"chunk_length_s\": null,\n",
      "  \"codebook_dim\": 128,\n",
      "  \"codebook_size\": 2048,\n",
      "  \"compress\": 2,\n",
      "  \"dilation_growth_rate\": 2,\n",
      "  \"hidden_size\": 128,\n",
      "  \"kernel_size\": 7,\n",
      "  \"last_kernel_size\": 7,\n",
      "  \"model_type\": \"encodec\",\n",
      "  \"norm_type\": \"weight_norm\",\n",
      "  \"normalize\": false,\n",
      "  \"num_filters\": 64,\n",
      "  \"num_lstm_layers\": 2,\n",
      "  \"num_residual_layers\": 1,\n",
      "  \"overlap\": null,\n",
      "  \"pad_mode\": \"reflect\",\n",
      "  \"residual_kernel_size\": 3,\n",
      "  \"sampling_rate\": 32000,\n",
      "  \"target_bandwidths\": [\n",
      "    2.2\n",
      "  ],\n",
      "  \"torch_dtype\": \"float32\",\n",
      "  \"transformers_version\": \"4.50.3\",\n",
      "  \"trim_right_ratio\": 1.0,\n",
      "  \"upsampling_ratios\": [\n",
      "    8,\n",
      "    5,\n",
      "    4,\n",
      "    4\n",
      "  ],\n",
      "  \"use_causal_conv\": false,\n",
      "  \"use_conv_shortcut\": false\n",
      "}\n",
      "\n",
      "Config of the decoder: <class 'transformers.models.musicgen.modeling_musicgen.MusicgenForCausalLM'> is overwritten by shared decoder config: MusicgenDecoderConfig {\n",
      "  \"activation_dropout\": 0.0,\n",
      "  \"activation_function\": \"gelu\",\n",
      "  \"attention_dropout\": 0.0,\n",
      "  \"audio_channels\": 1,\n",
      "  \"bos_token_id\": 2048,\n",
      "  \"classifier_dropout\": 0.0,\n",
      "  \"dropout\": 0.1,\n",
      "  \"ffn_dim\": 6144,\n",
      "  \"hidden_size\": 1536,\n",
      "  \"initializer_factor\": 0.02,\n",
      "  \"layerdrop\": 0.0,\n",
      "  \"max_position_embeddings\": 2048,\n",
      "  \"model_type\": \"musicgen_decoder\",\n",
      "  \"num_attention_heads\": 24,\n",
      "  \"num_codebooks\": 4,\n",
      "  \"num_hidden_layers\": 48,\n",
      "  \"pad_token_id\": 2048,\n",
      "  \"scale_embedding\": false,\n",
      "  \"tie_word_embeddings\": false,\n",
      "  \"torch_dtype\": \"float32\",\n",
      "  \"transformers_version\": \"4.50.3\",\n",
      "  \"use_cache\": true,\n",
      "  \"vocab_size\": 2048\n",
      "}\n",
      "\n"
     ]
    }
   ],
   "source": [
    "device = \"cuda:0\"\n",
    "model_name = \"facebook/musicgen-medium\"  # can be any Huggingface model\n",
    "\n",
    "model = MusicGenLanguageModel(model_name, device_map=device)\n",
    "submodule = model.decoder.model.decoder.layers[16]\n",
    "processor = AutoProcessor.from_pretrained(model_name)\n",
    "activation_dim = 1024  # output dimension of the MLP\n",
    "dictionary_size = 2 * activation_dim"
   ]
  },
  {
   "cell_type": "code",
   "execution_count": 3,
   "metadata": {
    "ExecuteTime": {
     "end_time": "2025-04-01T15:34:29.546756Z",
     "start_time": "2025-04-01T15:34:29.539006Z"
    }
   },
   "outputs": [],
   "source": [
    "class PromptDataset(TorchDataset):\n",
    "    def __init__(self, ds: Dataset):\n",
    "        self.ds = ds\n",
    "\n",
    "    def __len__(self):\n",
    "        return len(self.ds)\n",
    "\n",
    "    def __getitem__(self, idx):\n",
    "        return self.ds[idx][\"main_caption\"]\n",
    "\n",
    "\n",
    "class PromtLoader:\n",
    "    def __init__(self, ds: PromptDataset):\n",
    "        self.ds = ds\n",
    "        self.data_iter = iter(self.ds)\n",
    "\n",
    "    def __iter__(self):\n",
    "        return self\n",
    "\n",
    "    def __next__(self):\n",
    "        try:\n",
    "            data = next(self.data_iter)\n",
    "        except StopIteration:\n",
    "            self.data_iter = iter(self.ds)\n",
    "            data = next(self.data_iter)\n",
    "        return data"
   ]
  },
  {
   "cell_type": "code",
   "execution_count": 13,
   "metadata": {
    "ExecuteTime": {
     "end_time": "2025-04-01T15:46:53.229685Z",
     "start_time": "2025-04-01T15:46:51.929536Z"
    }
   },
   "outputs": [],
   "source": [
    "tokens = 255\n",
    "\n",
    "\n",
    "class MusicActivationBuffer(ActivationBuffer):\n",
    "    def refresh(self):\n",
    "        gc.collect()\n",
    "        t.cuda.empty_cache()\n",
    "        self.activations = self.activations[~self.read]\n",
    "\n",
    "        current_idx = len(self.activations)\n",
    "        new_activations = t.empty(\n",
    "            self.activation_buffer_size, self.d_submodule, device=self.device, dtype=self.model.dtype\n",
    "        )\n",
    "\n",
    "        new_activations[: len(self.activations)] = self.activations\n",
    "        self.activations = new_activations\n",
    "        while current_idx < self.activation_buffer_size:\n",
    "            with t.no_grad():\n",
    "                with self.model.generate(self.text_batch(), max_new_tokens=tokens):\n",
    "                    activations = nnsight.list().save()\n",
    "                    for _ in range(tokens):\n",
    "                        hidden_states = self.submodule.output.save()\n",
    "                        activations.append(hidden_states[0])\n",
    "                        model.next()\n",
    "            activations = t.cat(activations)\n",
    "            remaining_space = self.activation_buffer_size - current_idx\n",
    "            if remaining_space <= 0:\n",
    "                break\n",
    "            activations = activations[:remaining_space]\n",
    "            self.activations[current_idx : current_idx + len(activations)] = activations.squeeze().to(self.device)\n",
    "            current_idx += len(activations)\n",
    "        self.read = t.zeros(len(self.activations), dtype=t.bool, device=self.device)\n",
    "\n",
    "\n",
    "n = 100\n",
    "prompts_ds = PromptDataset(\n",
    "    load_dataset(\"amaai-lab/MusicBench\", split=\"test\").select_columns([\"main_caption\"]).select(range(n))\n",
    ")\n",
    "buffer = MusicActivationBuffer(\n",
    "    data=PromtLoader(prompts_ds),\n",
    "    model=model,\n",
    "    submodule=submodule,\n",
    "    d_submodule=activation_dim,\n",
    "    n_ctxs=10,\n",
    "    ctx_len=10,\n",
    "    refresh_batch_size=10,\n",
    "    out_batch_size=10,\n",
    "    device=device,\n",
    ")"
   ]
  },
  {
   "cell_type": "code",
   "execution_count": 14,
   "metadata": {
    "ExecuteTime": {
     "end_time": "2025-04-01T15:47:45.333247Z",
     "start_time": "2025-04-01T15:46:56.469945Z"
    }
   },
   "outputs": [
    {
     "name": "stderr",
     "output_type": "stream",
     "text": [
      "100%|██████████████████████████████████████████████████████████████████████████████████████████████████████████| 1000/1000 [00:48<00:00, 20.48it/s]\n"
     ]
    }
   ],
   "source": [
    "trainer_cfg = {\n",
    "    \"trainer\": TopKTrainer,\n",
    "    \"dict_class\": AutoEncoderTopK,\n",
    "    \"activation_dim\": activation_dim,\n",
    "    \"dict_size\": dictionary_size,\n",
    "    \"lr\": 1e-3,\n",
    "    \"device\": device,\n",
    "    \"steps\": 1000,\n",
    "    \"layer\": 16,\n",
    "    \"lm_name\": \"MusicGen-small\",\n",
    "    \"warmup_steps\": 2,\n",
    "    \"k\": 10,\n",
    "}\n",
    "#\n",
    "# # train the sparse autoencoder (SAE)\n",
    "trainSAE(\n",
    "    data=buffer,  # you could also use another (i.e. pytorch dataloader) here instead of buffer\n",
    "    trainer_configs=[trainer_cfg],\n",
    "    steps=trainer_cfg[\"steps\"],\n",
    "    save_dir=MODELS_DIR,\n",
    ")"
   ]
  },
  {
   "cell_type": "code",
   "execution_count": 12,
   "metadata": {
    "ExecuteTime": {
     "end_time": "2025-04-01T15:52:00.137329Z",
     "start_time": "2025-04-01T15:52:00.092962Z"
    }
   },
   "outputs": [],
   "source": [
    "ae = AutoEncoderTopK.from_pretrained(MODELS_DIR / \"musicgen-sae\" / \"3\" / \"trainer_0\" / \"ae.pt\").to(device)\n",
    "submodule = model.decoder.model.decoder.layers[3]"
   ]
  },
  {
   "cell_type": "code",
   "execution_count": 14,
   "metadata": {},
   "outputs": [],
   "source": [
    "prompt = \"Recreate the essence of a classic video game theme with chiptune sounds and nostalgic melodies.\"\n",
    "tokens = 255\n",
    "n = 3\n",
    "with model.generate([prompt] * n, max_new_tokens=tokens):\n",
    "    outputs = nnsight.list().save()  # Initialize & .save() nnsight list\n",
    "    for _ in range(tokens):\n",
    "        submodule.output[0][:] = ae(submodule.output[0][:])\n",
    "        outputs.append(model.generator.output)\n",
    "        model.next()\n",
    "for i in range(n):\n",
    "    torchaudio.save(\n",
    "        OUTPUT_DATA_DIR / \"musicgen-sae\" / f\"out_{i}.wav\",\n",
    "        src=outputs[0][i].detach().cpu(),\n",
    "        sample_rate=model.config.sampling_rate,\n",
    "        channels_first=True,\n",
    "    )"
   ]
  }
 ],
 "metadata": {
  "kernelspec": {
   "display_name": "Python 3 (ipykernel)",
   "language": "python",
   "name": "python3"
  },
  "language_info": {
   "codemirror_mode": {
    "name": "ipython",
    "version": 3
   },
   "file_extension": ".py",
   "mimetype": "text/x-python",
   "name": "python",
   "nbconvert_exporter": "python",
   "pygments_lexer": "ipython3",
   "version": "3.12.3"
  }
 },
 "nbformat": 4,
 "nbformat_minor": 2
}
