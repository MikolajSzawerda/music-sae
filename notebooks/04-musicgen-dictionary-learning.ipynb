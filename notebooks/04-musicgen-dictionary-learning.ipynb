{
 "cells": [
  {
   "metadata": {
    "ExecuteTime": {
     "end_time": "2025-03-31T16:11:29.122262Z",
     "start_time": "2025-03-31T16:11:27.226424Z"
    }
   },
   "cell_type": "code",
   "source": [
    "from dictionary_learning import ActivationBuffer, AutoEncoder\n",
    "from dictionary_learning.trainers.top_k import AutoEncoderTopK, TopKTrainer\n",
    "from dictionary_learning.training import trainSAE\n",
    "from musicsae.nnsight_model import MusicGenLanguageModel, AutoProcessor\n",
    "import torch as t\n",
    "import gc\n",
    "from utils import PROJ_ROOT\n",
    "import nnsight\n",
    "from datasets import load_dataset, Dataset\n",
    "from torch.utils.data import Dataset as TorchDataset"
   ],
   "id": "9fbd3e5c8cd29c72",
   "outputs": [
    {
     "name": "stdout",
     "output_type": "stream",
     "text": [
      "2025-03-31 18:11:29,085 INFO PyTorch version 2.6.0 available.\n"
     ]
    }
   ],
   "execution_count": 1
  },
  {
   "metadata": {
    "ExecuteTime": {
     "end_time": "2025-03-31T16:11:33.331137Z",
     "start_time": "2025-03-31T16:11:29.146420Z"
    }
   },
   "cell_type": "code",
   "source": [
    "device = \"cuda:0\"\n",
    "model_name = \"facebook/musicgen-small\" # can be any Huggingface model\n",
    "\n",
    "model = MusicGenLanguageModel(model_name, device_map=device)\n",
    "submodule = model.decoder.model.decoder.layers[16]\n",
    "processor = AutoProcessor.from_pretrained(model_name)\n",
    "activation_dim = 1024 # output dimension of the MLP\n",
    "dictionary_size = 2 * activation_dim"
   ],
   "id": "c51f948aa7411de4",
   "outputs": [
    {
     "name": "stderr",
     "output_type": "stream",
     "text": [
      "Config of the text_encoder: <class 'transformers.models.t5.modeling_t5.T5EncoderModel'> is overwritten by shared text_encoder config: T5Config {\n",
      "  \"architectures\": [\n",
      "    \"T5ForConditionalGeneration\"\n",
      "  ],\n",
      "  \"classifier_dropout\": 0.0,\n",
      "  \"d_ff\": 3072,\n",
      "  \"d_kv\": 64,\n",
      "  \"d_model\": 768,\n",
      "  \"decoder_start_token_id\": 0,\n",
      "  \"dense_act_fn\": \"relu\",\n",
      "  \"dropout_rate\": 0.1,\n",
      "  \"eos_token_id\": 1,\n",
      "  \"feed_forward_proj\": \"relu\",\n",
      "  \"initializer_factor\": 1.0,\n",
      "  \"is_encoder_decoder\": true,\n",
      "  \"is_gated_act\": false,\n",
      "  \"layer_norm_epsilon\": 1e-06,\n",
      "  \"model_type\": \"t5\",\n",
      "  \"n_positions\": 512,\n",
      "  \"num_decoder_layers\": 12,\n",
      "  \"num_heads\": 12,\n",
      "  \"num_layers\": 12,\n",
      "  \"output_past\": true,\n",
      "  \"pad_token_id\": 0,\n",
      "  \"relative_attention_max_distance\": 128,\n",
      "  \"relative_attention_num_buckets\": 32,\n",
      "  \"task_specific_params\": {\n",
      "    \"summarization\": {\n",
      "      \"early_stopping\": true,\n",
      "      \"length_penalty\": 2.0,\n",
      "      \"max_length\": 200,\n",
      "      \"min_length\": 30,\n",
      "      \"no_repeat_ngram_size\": 3,\n",
      "      \"num_beams\": 4,\n",
      "      \"prefix\": \"summarize: \"\n",
      "    },\n",
      "    \"translation_en_to_de\": {\n",
      "      \"early_stopping\": true,\n",
      "      \"max_length\": 300,\n",
      "      \"num_beams\": 4,\n",
      "      \"prefix\": \"translate English to German: \"\n",
      "    },\n",
      "    \"translation_en_to_fr\": {\n",
      "      \"early_stopping\": true,\n",
      "      \"max_length\": 300,\n",
      "      \"num_beams\": 4,\n",
      "      \"prefix\": \"translate English to French: \"\n",
      "    },\n",
      "    \"translation_en_to_ro\": {\n",
      "      \"early_stopping\": true,\n",
      "      \"max_length\": 300,\n",
      "      \"num_beams\": 4,\n",
      "      \"prefix\": \"translate English to Romanian: \"\n",
      "    }\n",
      "  },\n",
      "  \"torch_dtype\": \"float32\",\n",
      "  \"transformers_version\": \"4.50.3\",\n",
      "  \"use_cache\": true,\n",
      "  \"vocab_size\": 32128\n",
      "}\n",
      "\n",
      "Config of the audio_encoder: <class 'transformers.models.encodec.modeling_encodec.EncodecModel'> is overwritten by shared audio_encoder config: EncodecConfig {\n",
      "  \"architectures\": [\n",
      "    \"EncodecModel\"\n",
      "  ],\n",
      "  \"audio_channels\": 1,\n",
      "  \"chunk_length_s\": null,\n",
      "  \"codebook_dim\": 128,\n",
      "  \"codebook_size\": 2048,\n",
      "  \"compress\": 2,\n",
      "  \"dilation_growth_rate\": 2,\n",
      "  \"hidden_size\": 128,\n",
      "  \"kernel_size\": 7,\n",
      "  \"last_kernel_size\": 7,\n",
      "  \"model_type\": \"encodec\",\n",
      "  \"norm_type\": \"weight_norm\",\n",
      "  \"normalize\": false,\n",
      "  \"num_filters\": 64,\n",
      "  \"num_lstm_layers\": 2,\n",
      "  \"num_residual_layers\": 1,\n",
      "  \"overlap\": null,\n",
      "  \"pad_mode\": \"reflect\",\n",
      "  \"residual_kernel_size\": 3,\n",
      "  \"sampling_rate\": 32000,\n",
      "  \"target_bandwidths\": [\n",
      "    2.2\n",
      "  ],\n",
      "  \"torch_dtype\": \"float32\",\n",
      "  \"transformers_version\": \"4.50.3\",\n",
      "  \"trim_right_ratio\": 1.0,\n",
      "  \"upsampling_ratios\": [\n",
      "    8,\n",
      "    5,\n",
      "    4,\n",
      "    4\n",
      "  ],\n",
      "  \"use_causal_conv\": false,\n",
      "  \"use_conv_shortcut\": false\n",
      "}\n",
      "\n",
      "Config of the decoder: <class 'transformers.models.musicgen.modeling_musicgen.MusicgenForCausalLM'> is overwritten by shared decoder config: MusicgenDecoderConfig {\n",
      "  \"activation_dropout\": 0.0,\n",
      "  \"activation_function\": \"gelu\",\n",
      "  \"attention_dropout\": 0.0,\n",
      "  \"audio_channels\": 1,\n",
      "  \"bos_token_id\": 2048,\n",
      "  \"classifier_dropout\": 0.0,\n",
      "  \"dropout\": 0.1,\n",
      "  \"ffn_dim\": 4096,\n",
      "  \"hidden_size\": 1024,\n",
      "  \"initializer_factor\": 0.02,\n",
      "  \"layerdrop\": 0.0,\n",
      "  \"max_position_embeddings\": 2048,\n",
      "  \"model_type\": \"musicgen_decoder\",\n",
      "  \"num_attention_heads\": 16,\n",
      "  \"num_codebooks\": 4,\n",
      "  \"num_hidden_layers\": 24,\n",
      "  \"pad_token_id\": 2048,\n",
      "  \"scale_embedding\": false,\n",
      "  \"tie_word_embeddings\": false,\n",
      "  \"torch_dtype\": \"float32\",\n",
      "  \"transformers_version\": \"4.50.3\",\n",
      "  \"use_cache\": true,\n",
      "  \"vocab_size\": 2048\n",
      "}\n",
      "\n"
     ]
    }
   ],
   "execution_count": 2
  },
  {
   "metadata": {
    "ExecuteTime": {
     "end_time": "2025-03-31T16:11:33.375954Z",
     "start_time": "2025-03-31T16:11:33.373464Z"
    }
   },
   "cell_type": "code",
   "source": [
    "class PromptDataset(TorchDataset):\n",
    "    def __init__(self, ds: Dataset):\n",
    "        self.ds = ds\n",
    "\n",
    "    def __len__(self):\n",
    "        return len(self.ds)\n",
    "\n",
    "    def __getitem__(self, idx):\n",
    "        return self.ds[idx]['main_caption']\n",
    "\n",
    "class PromtLoader:\n",
    "    def __init__(self, ds: PromptDataset):\n",
    "        self.ds = ds\n",
    "        self.data_iter = iter(self.ds)\n",
    "\n",
    "    def __iter__(self):\n",
    "        return self\n",
    "\n",
    "    def __next__(self):\n",
    "        try:\n",
    "            data = next(self.data_iter)\n",
    "        except StopIteration:\n",
    "            self.data_iter = iter(self.ds)\n",
    "            data = next(self.data_iter)\n",
    "        return data"
   ],
   "id": "5dac983d4b1957bd",
   "outputs": [],
   "execution_count": 3
  },
  {
   "metadata": {
    "ExecuteTime": {
     "end_time": "2025-03-31T17:00:33.003225Z",
     "start_time": "2025-03-31T17:00:30.678084Z"
    }
   },
   "cell_type": "code",
   "source": [
    "class MusicActivationBuffer(ActivationBuffer):\n",
    "        def refresh(self):\n",
    "            gc.collect()\n",
    "            t.cuda.empty_cache()\n",
    "            self.activations = self.activations[~self.read]\n",
    "\n",
    "            current_idx = len(self.activations)\n",
    "            new_activations = t.empty(self.activation_buffer_size, self.d_submodule, device=self.device, dtype=self.model.dtype)\n",
    "\n",
    "            new_activations[: len(self.activations)] = self.activations\n",
    "            self.activations = new_activations\n",
    "            while current_idx < self.activation_buffer_size:\n",
    "                with t.no_grad():\n",
    "                    with self.model.generate(\n",
    "                        self.text_batch(),\n",
    "                        max_new_tokens=10\n",
    "                    ):\n",
    "                        hidden_states = self.submodule.output.save()\n",
    "                        self.submodule.output.stop()\n",
    "                hidden_states = hidden_states[0]\n",
    "                remaining_space = self.activation_buffer_size - current_idx\n",
    "                assert remaining_space > 0\n",
    "                hidden_states = hidden_states[:remaining_space]\n",
    "                self.activations[current_idx : current_idx + len(hidden_states)] = hidden_states.squeeze().to(\n",
    "                    self.device\n",
    "                )\n",
    "                current_idx += len(hidden_states)\n",
    "            self.read = t.zeros(len(self.activations), dtype=t.bool, device=self.device)\n",
    "n = 100\n",
    "prompts_ds = PromptDataset(load_dataset(\"amaai-lab/MusicBench\", split='test').select_columns(['main_caption']).select(range(n)))\n",
    "buffer = MusicActivationBuffer(\n",
    "    data=PromtLoader(prompts_ds),\n",
    "    model=model,\n",
    "    submodule=submodule,\n",
    "    d_submodule=activation_dim,\n",
    "    n_ctxs=10,\n",
    "    ctx_len=10,\n",
    "    refresh_batch_size=10,\n",
    "    out_batch_size=10,\n",
    "    device=device,\n",
    ")"
   ],
   "id": "20c27bc59eec86ae",
   "outputs": [],
   "execution_count": 8
  },
  {
   "metadata": {
    "ExecuteTime": {
     "end_time": "2025-03-31T17:01:26.887231Z",
     "start_time": "2025-03-31T17:00:45.098232Z"
    }
   },
   "cell_type": "code",
   "source": [
    "trainer_cfg = {\n",
    "    \"trainer\": TopKTrainer,\n",
    "    \"dict_class\": AutoEncoderTopK,\n",
    "    \"activation_dim\": activation_dim,\n",
    "    \"dict_size\": dictionary_size,\n",
    "    \"lr\": 1e-3,\n",
    "    \"device\": device,\n",
    "    'steps': 1000,\n",
    "    'layer': 16,\n",
    "    'lm_name': 'MusicGen-small',\n",
    "    'warmup_steps': 2,\n",
    "    'k': 10\n",
    "}\n",
    "#\n",
    "# # train the sparse autoencoder (SAE)\n",
    "trainSAE(\n",
    "    data=buffer,  # you could also use another (i.e. pytorch dataloader) here instead of buffer\n",
    "    trainer_configs=[trainer_cfg],\n",
    "    steps=trainer_cfg[\"steps\"],\n",
    "    save_dir=PROJ_ROOT / 'models',\n",
    ")"
   ],
   "id": "3e4a99548d4977c5",
   "outputs": [
    {
     "name": "stderr",
     "output_type": "stream",
     "text": [
      "100%|████████████████████████████████████████████████████████████████████████████████████████████████████████████████████| 1000/1000 [00:41<00:00, 23.95it/s]\n"
     ]
    }
   ],
   "execution_count": 10
  },
  {
   "metadata": {
    "ExecuteTime": {
     "end_time": "2025-03-31T16:11:42.910844Z",
     "start_time": "2025-03-31T16:11:42.880919Z"
    }
   },
   "cell_type": "code",
   "source": "ae = AutoEncoderTopK.from_pretrained(PROJ_ROOT / 'models' / 'trainer_0' /'ae.pt').to(device)",
   "id": "b2f9657ea557bc2c",
   "outputs": [],
   "execution_count": 6
  },
  {
   "metadata": {
    "ExecuteTime": {
     "end_time": "2025-03-31T16:11:43.208344Z",
     "start_time": "2025-03-31T16:11:42.939090Z"
    }
   },
   "cell_type": "code",
   "source": [
    "prompt = \"Recreate the essence of a classic video game theme with chiptune sounds and nostalgic melodies.\"\n",
    "tokens = 10\n",
    "with model.generate([prompt]*3, max_new_tokens=tokens):\n",
    "    outputs = nnsight.list().save() # Initialize & .save() nnsight list\n",
    "    for _ in range(tokens):\n",
    "        submodule.output[0][:] = ae(submodule.output[0])\n",
    "        outputs.append(model.generator.output)\n",
    "        model.next()\n",
    "outputs"
   ],
   "id": "d24505266f2760e",
   "outputs": [
    {
     "data": {
      "text/plain": [
       "[tensor([[[-0.0156, -0.0258,  0.0242,  ...,  0.1231,  0.0905,  0.1405]],\n",
       " \n",
       "         [[ 0.0130,  0.0136,  0.0251,  ...,  0.3423,  0.3147,  0.3451]],\n",
       " \n",
       "         [[-0.0515, -0.0549, -0.0457,  ...,  0.3472,  0.3156,  0.3441]]],\n",
       "        device='cuda:0')]"
      ]
     },
     "execution_count": 7,
     "metadata": {},
     "output_type": "execute_result"
    }
   ],
   "execution_count": 7
  }
 ],
 "metadata": {
  "kernelspec": {
   "name": "python3",
   "language": "python",
   "display_name": "Python 3 (ipykernel)"
  }
 },
 "nbformat": 5,
 "nbformat_minor": 9
}
