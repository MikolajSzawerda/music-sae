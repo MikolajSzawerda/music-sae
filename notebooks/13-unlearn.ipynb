{
 "cells": [
  {
   "cell_type": "code",
   "execution_count": 1,
   "metadata": {},
   "outputs": [
    {
     "name": "stdout",
     "output_type": "stream",
     "text": [
      "2025-08-09 12:48:14,566 INFO PyTorch version 2.8.0 available.\n"
     ]
    }
   ],
   "source": [
    "from dictionary_learning.trainers.top_k import AutoEncoderTopK\n",
    "import torch\n",
    "from utils import MODELS_DIR, INPUT_DATA_DIR\n",
    "from datasets import load_dataset\n",
    "from tqdm import tqdm\n",
    "from torch.utils.data import DataLoader\n",
    "import seaborn as sns\n",
    "import matplotlib.pyplot as plt\n",
    "\n",
    "device = \"cuda:1\"\n",
    "model_name = \"facebook/musicgen-medium\"\n",
    "max_tokens = 200\n",
    "base_dir = INPUT_DATA_DIR / \"music-bench\" / \"datashare-instruments\"\n",
    "model_sr = 32000"
   ]
  },
  {
   "cell_type": "code",
   "execution_count": 2,
   "metadata": {},
   "outputs": [],
   "source": [
    "ae = AutoEncoderTopK.from_pretrained(\n",
    "    MODELS_DIR / \"medium-sae-trivial-medium-sae-ee3b\" / \"16\" / \"trainer_0\" / \"checkpoints\" / \"ae_71100.pt\"\n",
    ").to(device)\n",
    "\n",
    "\n",
    "def get_dl(name, batch_size=200000, n=1000):\n",
    "    ds = load_dataset(\n",
    "        \"arrow\",\n",
    "        data_files=str(INPUT_DATA_DIR / name / \"medium\" / \"jamendo_plugin\" / \"16\" / \"train\" / \"*.arrow\"),\n",
    "        # streaming=True,\n",
    "        split=\"train\",\n",
    "    ).select(range(n))\n",
    "\n",
    "    def collate_fn(batch, device):\n",
    "        activations = torch.tensor([item[\"activation\"] for item in batch])\n",
    "        return activations.squeeze()\n",
    "\n",
    "    return DataLoader(\n",
    "        ds,\n",
    "        batch_size=batch_size,\n",
    "        # num_workers=,\n",
    "        collate_fn=lambda x: collate_fn(x, device),\n",
    "    )\n",
    "\n",
    "\n",
    "# dl = get_dl(\"raggae_activation\", batch_size=1000)\n",
    "# not_dl = get_dl(\"anty_raggae_activation\", batch_size=1000)"
   ]
  },
  {
   "cell_type": "code",
   "execution_count": 4,
   "metadata": {},
   "outputs": [
    {
     "data": {
      "application/vnd.jupyter.widget-view+json": {
       "model_id": "4d854b90d0ea41abb1a01c5763f4631f",
       "version_major": 2,
       "version_minor": 0
      },
      "text/plain": [
       "Generating train split: 0 examples [00:00, ? examples/s]"
      ]
     },
     "metadata": {},
     "output_type": "display_data"
    },
    {
     "name": "stderr",
     "output_type": "stream",
     "text": [
      "100%|██████████| 10/10 [00:47<00:00,  4.71s/it]\n",
      "100%|██████████| 10/10 [00:46<00:00,  4.66s/it]\n"
     ]
    },
    {
     "data": {
      "image/png": "[encoded data removed]",
      "text/plain": [
       "<Figure size 640x480 with 1 Axes>"
      ]
     },
     "metadata": {},
     "output_type": "display_data"
    }
   ],
   "source": [
    "@torch.no_grad()\n",
    "def batch_score_vector(loader_c, loader_nc, delta: float = 1e-8, delta_prime: float | None = None, device=None):\n",
    "    if delta_prime is None:\n",
    "        delta_prime = delta\n",
    "\n",
    "    def _accumulate(loader):\n",
    "        col_sum = None  # (n,)\n",
    "        count = 0\n",
    "        for batch in tqdm(loader):\n",
    "            # allow loaders that yield (X, y, ...) tuples\n",
    "            X = batch[0] if isinstance(batch, (tuple, list)) else batch\n",
    "            if device is not None:\n",
    "                X = X.to(device, non_blocking=True)\n",
    "            X = ae.encode(X)\n",
    "            X = X.float()\n",
    "            if col_sum is None:\n",
    "                col_sum = torch.zeros(X.size(1), dtype=torch.float64, device=X.device)\n",
    "            col_sum += X.sum(dim=0, dtype=torch.float64)\n",
    "            count += X.size(0)\n",
    "        return col_sum, count\n",
    "\n",
    "    col_sum_c, Lc = _accumulate(loader_c)\n",
    "    col_sum_nc, Lnc = _accumulate(loader_nc)\n",
    "\n",
    "    if Lc == 0 or Lnc == 0:\n",
    "        raise ValueError(\"Empty dataset in one of the loaders.\")\n",
    "\n",
    "    mu_c = (col_sum_c / Lc).to(torch.float32)  # (n,)\n",
    "    mu_nc = (col_sum_nc / Lnc).to(torch.float32)  # (n,)\n",
    "\n",
    "    denom_c = mu_c.sum() + float(delta)\n",
    "    denom_nc = mu_nc.sum() + float(delta_prime)\n",
    "\n",
    "    return mu_c / denom_c - mu_nc / denom_nc, mu_c, mu_nc\n",
    "\n",
    "\n",
    "d, d_not = \"classicguitar_activation\", \"not_classicguitar_activation\"\n",
    "batch_size, n = 10000, 100000\n",
    "score, mu_c, mu_nc = batch_score_vector(get_dl(d, batch_size, n), get_dl(d_not, batch_size, n), device=device)\n",
    "torch.save(score.detach().cpu(), INPUT_DATA_DIR / \"unlearn\" / f\"{d}.pt\")\n",
    "torch.save(mu_c.detach().cpu(), INPUT_DATA_DIR / \"unlearn\" / f\"{d}_mu.pt\")\n",
    "vals = score.detach().float().cpu().numpy().ravel()  # 1D array of all values\n",
    "\n",
    "sns.set_theme()\n",
    "sns.histplot(vals, bins=50, stat=\"density\", kde=True)\n",
    "plt.xlabel(\"x values\")\n",
    "plt.ylabel(\"density\")\n",
    "plt.title(\"Distribution of x\")\n",
    "plt.show()"
   ]
  },
  {
   "cell_type": "code",
   "execution_count": 38,
   "metadata": {},
   "outputs": [],
   "source": [
    "q = 0.99\n",
    "thr = torch.quantile(score.float(), q).cpu()\n",
    "x = score.detach().cpu()\n",
    "x[x > thr] = -100\n",
    "ind = x.topk(100).indices\n",
    "mask = torch.zeros(x.shape[0])\n",
    "mask[ind] = 1\n",
    "intervention_mask = mu_c.detach().cpu()\n",
    "intervention_mask[~mask.bool()] = 1\n",
    "intervention_mask"
   ]
  },
  {
   "cell_type": "code",
   "execution_count": 44,
   "metadata": {},
   "outputs": [
    {
     "data": {
      "text/plain": [
       "tensor([1., 1., 1.,  ..., 1., 1., 1.])"
      ]
     },
     "execution_count": 44,
     "metadata": {},
     "output_type": "execute_result"
    }
   ],
   "source": [
    "intervention_mask = mu_c.detach().cpu()\n",
    "intervention_mask[~mask.bool()] = 1\n",
    "intervention_mask"
   ]
  }
 ],
 "metadata": {
  "kernelspec": {
   "display_name": ".venv",
   "language": "python",
   "name": "python3"
  },
  "language_info": {
   "codemirror_mode": {
    "name": "ipython",
    "version": 3
   },
   "file_extension": ".py",
   "mimetype": "text/x-python",
   "name": "python",
   "nbconvert_exporter": "python",
   "pygments_lexer": "ipython3",
   "version": "3.12.3"
  }
 },
 "nbformat": 4,
 "nbformat_minor": 2
}
